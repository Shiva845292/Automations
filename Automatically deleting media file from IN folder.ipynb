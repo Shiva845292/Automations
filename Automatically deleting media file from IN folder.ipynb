{
 "cells": [
  {
   "cell_type": "code",
   "execution_count": 8,
   "id": "c3613c44",
   "metadata": {},
   "outputs": [
    {
     "name": "stdout",
     "output_type": "stream",
     "text": [
      "THE -----New WinRAR ZIP archive.zip----- IS DELETED...! FROM zic-eng-wfoh-2.2-R1\n",
      "THE -----New WinRAR archive.rar----- IS DELETED...! FROM zic-eng-wfohi-2.2-R2\n",
      "THE -----New Text Document.txt----- IS DELETED...! FROM zic-eng-wfohqweqweqw-2.2-R1\n",
      "THE -----NewDocument.txt----- IS DELETED...! FROM zcx-mlt-svdhiods-43.34-R1\n",
      "THE -----NewZIP archive.zip----- IS DELETED...! FROM ZCX-ENG-hiowefjilefilj-23.34-R1\n"
     ]
    }
   ],
   "source": [
    "import os\n",
    "def finding_media_file(location):\n",
    "    os.chdir(location)\n",
    "    sorted_folder=sorted(os.listdir(),key=os.path.getmtime,reverse=True)\n",
    "    for count,UPN in enumerate(sorted_folder):\n",
    "        if count==49: break\n",
    "        else:\n",
    "            UPN_FOLDER=os.path.join(location,UPN)\n",
    "            os.chdir(UPN_FOLDER)\n",
    "            for folder in os.listdir():\n",
    "                if folder.lower()==\"media\":\n",
    "                    media_folder=os.path.join(UPN_FOLDER,folder)\n",
    "                    os.chdir(media_folder)\n",
    "                    media_file=os.listdir()\n",
    "\n",
    "            IN_dir=\"S:\\\\In_folder\"\n",
    "            os.chdir(IN_dir)\n",
    "            for file in sorted(os.listdir(),key=os.path.getmtime,reverse=True):\n",
    "                for i in media_file:\n",
    "                    if i==file:\n",
    "                        os.remove(file)\n",
    "                        print(f\"THE -----{file}----- IS DELETED...! FROM {UPN}\")\n",
    "\n",
    "if __name__ == \"__main__\":\n",
    "    finding_media_file(\"C:\\\\Pkg\")\n",
    "    finding_media_file(\"C:\\\\pkg_ctx\")"
   ]
  },
  {
   "cell_type": "code",
   "execution_count": null,
   "id": "cc526e78",
   "metadata": {},
   "outputs": [],
   "source": []
  }
 ],
 "metadata": {
  "kernelspec": {
   "display_name": "Python 3 (ipykernel)",
   "language": "python",
   "name": "python3"
  },
  "language_info": {
   "codemirror_mode": {
    "name": "ipython",
    "version": 3
   },
   "file_extension": ".py",
   "mimetype": "text/x-python",
   "name": "python",
   "nbconvert_exporter": "python",
   "pygments_lexer": "ipython3",
   "version": "3.9.7"
  }
 },
 "nbformat": 4,
 "nbformat_minor": 5
}
