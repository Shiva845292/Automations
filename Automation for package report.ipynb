{
 "cells": [
  {
   "cell_type": "code",
   "execution_count": 5,
   "id": "23f835bd",
   "metadata": {},
   "outputs": [
    {
     "name": "stdout",
     "output_type": "stream",
     "text": [
      "new file is created..!\n"
     ]
    }
   ],
   "source": [
    "import docx\n",
    "import os\n",
    "\n",
    "\n",
    "def main():\n",
    "    template_file_path = \"S:\\\\New folder\\\\Oldfile.docx\"\n",
    "    output_file_path = \"S:\\\\New folder\\\\New.docx\"\n",
    "\n",
    "    variables = {\n",
    "        \"${EMPLOEE_NAME}\": \"Shiva\",\n",
    "        \"${UPN}\": \"Software Engineer\"\n",
    "    }\n",
    "\n",
    "    template_document = docx.Document(template_file_path)\n",
    "\n",
    "    for variable_key, variable_value in variables.items():\n",
    "        for paragraph in template_document.paragraphs:\n",
    "            replace_text_in_paragraph(paragraph, variable_key, variable_value)\n",
    "\n",
    "        for table in template_document.tables:\n",
    "            for col in table.columns:\n",
    "                for cell in col.cells:\n",
    "                    for paragraph in cell.paragraphs:\n",
    "                        replace_text_in_paragraph(paragraph, variable_key, variable_value)\n",
    "\n",
    "    template_document.save(output_file_path)\n",
    "    print(\"new file is created..!\")\n",
    "\n",
    "\n",
    "def replace_text_in_paragraph(paragraph, key, value):\n",
    "    if key in paragraph.text:\n",
    "        inline = paragraph.runs\n",
    "        for item in inline:\n",
    "            if key in item.text:\n",
    "                item.text = item.text.replace(key, value)\n",
    "\n",
    "\n",
    "if __name__ == '__main__':\n",
    "    main()\n"
   ]
  },
  {
   "cell_type": "code",
   "execution_count": 2,
   "id": "f8499dcf",
   "metadata": {},
   "outputs": [
    {
     "name": "stdout",
     "output_type": "stream",
     "text": [
      "Collecting python-docx\n",
      "  Downloading python-docx-0.8.11.tar.gz (5.6 MB)\n",
      "Requirement already satisfied: lxml>=2.3.2 in c:\\users\\m.shivaprasadreddy\\anaconda3\\lib\\site-packages (from python-docx) (4.6.3)\n",
      "Building wheels for collected packages: python-docx\n",
      "  Building wheel for python-docx (setup.py): started\n",
      "  Building wheel for python-docx (setup.py): finished with status 'done'\n",
      "  Created wheel for python-docx: filename=python_docx-0.8.11-py3-none-any.whl size=184508 sha256=b0eeefb0443f8eef4ec42fb68e3ae88d5e6ec2d46f623d65ca512c1ba07f9c46\n",
      "  Stored in directory: c:\\users\\m.shivaprasadreddy\\appdata\\local\\pip\\cache\\wheels\\83\\8b\\7c\\09ae60c42c7ba4ed2dddaf2b8b9186cb105255856d6ed3dba5\n",
      "Successfully built python-docx\n",
      "Installing collected packages: python-docx\n",
      "Successfully installed python-docx-0.8.11\n"
     ]
    }
   ],
   "source": [
    "!pip install python-docx"
   ]
  },
  {
   "cell_type": "code",
   "execution_count": null,
   "id": "45b531dd",
   "metadata": {},
   "outputs": [],
   "source": []
  }
 ],
 "metadata": {
  "kernelspec": {
   "display_name": "Python 3 (ipykernel)",
   "language": "python",
   "name": "python3"
  },
  "language_info": {
   "codemirror_mode": {
    "name": "ipython",
    "version": 3
   },
   "file_extension": ".py",
   "mimetype": "text/x-python",
   "name": "python",
   "nbconvert_exporter": "python",
   "pygments_lexer": "ipython3",
   "version": "3.9.7"
  }
 },
 "nbformat": 4,
 "nbformat_minor": 5
}
