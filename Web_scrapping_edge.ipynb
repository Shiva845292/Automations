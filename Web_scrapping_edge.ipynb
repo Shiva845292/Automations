{
 "cells": [
  {
   "cell_type": "code",
   "execution_count": 2,
   "id": "5ee931a2",
   "metadata": {},
   "outputs": [
    {
     "name": "stdout",
     "output_type": "stream",
     "text": [
      "Defaulting to user installation because normal site-packages is not writeable\n",
      "Collecting msedge-selenium-tools\n",
      "  Downloading msedge_selenium_tools-3.141.4-py3-none-any.whl (15 kB)\n",
      "Collecting selenium==3.141\n",
      "  Downloading selenium-3.141.0-py2.py3-none-any.whl (904 kB)\n",
      "     -------------------------------------- 904.6/904.6 kB 6.3 MB/s eta 0:00:00\n",
      "Requirement already satisfied: urllib3 in c:\\programdata\\anaconda3\\lib\\site-packages (from selenium==3.141->msedge-selenium-tools) (1.26.11)\n",
      "Installing collected packages: selenium, msedge-selenium-tools\n",
      "Successfully installed msedge-selenium-tools-3.141.4 selenium-3.141.0\n"
     ]
    }
   ],
   "source": [
    "!pip install msedge-selenium-tools"
   ]
  },
  {
   "cell_type": "code",
   "execution_count": 7,
   "id": "d930da34",
   "metadata": {},
   "outputs": [
    {
     "name": "stdout",
     "output_type": "stream",
     "text": [
      "Defaulting to user installation because normal site-packages is not writeable"
     ]
    },
    {
     "name": "stderr",
     "output_type": "stream",
     "text": [
      "  WARNING: The script dotenv.exe is installed in 'C:\\Users\\smallapalli\\AppData\\Roaming\\Python\\Python39\\Scripts' which is not on PATH.\n",
      "  Consider adding this directory to PATH or, if you prefer to suppress this warning, use --no-warn-script-location.\n"
     ]
    },
    {
     "name": "stdout",
     "output_type": "stream",
     "text": [
      "\n",
      "Collecting webdriver_manager\n",
      "  Downloading webdriver_manager-3.8.6-py2.py3-none-any.whl (27 kB)\n",
      "Requirement already satisfied: packaging in c:\\programdata\\anaconda3\\lib\\site-packages (from webdriver_manager) (21.3)\n",
      "Collecting python-dotenv\n",
      "  Downloading python_dotenv-1.0.0-py3-none-any.whl (19 kB)\n",
      "Requirement already satisfied: requests in c:\\programdata\\anaconda3\\lib\\site-packages (from webdriver_manager) (2.28.1)\n",
      "Requirement already satisfied: tqdm in c:\\programdata\\anaconda3\\lib\\site-packages (from webdriver_manager) (4.64.1)\n",
      "Requirement already satisfied: pyparsing!=3.0.5,>=2.0.2 in c:\\programdata\\anaconda3\\lib\\site-packages (from packaging->webdriver_manager) (3.0.9)\n",
      "Requirement already satisfied: idna<4,>=2.5 in c:\\programdata\\anaconda3\\lib\\site-packages (from requests->webdriver_manager) (3.3)\n",
      "Requirement already satisfied: urllib3<1.27,>=1.21.1 in c:\\programdata\\anaconda3\\lib\\site-packages (from requests->webdriver_manager) (1.26.11)\n",
      "Requirement already satisfied: charset-normalizer<3,>=2 in c:\\programdata\\anaconda3\\lib\\site-packages (from requests->webdriver_manager) (2.0.4)\n",
      "Requirement already satisfied: certifi>=2017.4.17 in c:\\programdata\\anaconda3\\lib\\site-packages (from requests->webdriver_manager) (2022.9.14)\n",
      "Requirement already satisfied: colorama in c:\\programdata\\anaconda3\\lib\\site-packages (from tqdm->webdriver_manager) (0.4.5)\n",
      "Installing collected packages: python-dotenv, webdriver_manager\n",
      "Successfully installed python-dotenv-1.0.0 webdriver_manager-3.8.6\n"
     ]
    }
   ],
   "source": [
    "!pip install webdriver_manager\n"
   ]
  },
  {
   "cell_type": "code",
   "execution_count": 30,
   "id": "d48251a7",
   "metadata": {},
   "outputs": [
    {
     "name": "stderr",
     "output_type": "stream",
     "text": [
      "C:\\Users\\smallapalli\\AppData\\Local\\Temp\\ipykernel_5320\\762832004.py:12: DeprecationWarning: Selenium Tools for Microsoft Edge is deprecated. Please upgrade to Selenium 4 which has built-in support for Microsoft Edge (Chromium): https://docs.microsoft.com/en-us/microsoft-edge/webdriver-chromium/#upgrading-from-selenium-3\n",
      "  driver = Edge(options=options, executable_path=EdgeChromiumDriverManager().install())\n"
     ]
    },
    {
     "name": "stdout",
     "output_type": "stream",
     "text": [
      "opened..!\n",
      "closing..!\n"
     ]
    }
   ],
   "source": [
    "from selenium import webdriver\n",
    "from selenium.webdriver.common.by import By\n",
    "from selenium.webdriver.support.ui import WebDriverWait\n",
    "from selenium.webdriver.support import expected_conditions as EC\n",
    "from msedge.selenium_tools import Edge, EdgeOptions\n",
    "from webdriver_manager.microsoft import EdgeChromiumDriverManager\n",
    "import time\n",
    "import random\n",
    "\n",
    "options = EdgeOptions()\n",
    "options.use_chromium = True\n",
    "driver = Edge(options=options, executable_path=EdgeChromiumDriverManager().install())\n",
    "driver.get(\"https://www.bing.com\")\n",
    "driver.maximize_window()\n",
    "print(\"opened..!\")\n",
    "time.sleep(15)\n",
    "\n",
    "# Search for a random number\n",
    "search_box = WebDriverWait(driver, 10).until(\n",
    "    EC.element_to_be_clickable((By.NAME, \"q\"))\n",
    ")\n",
    "search_word = str(random.randint(1, 120000))\n",
    "search_box.send_keys(search_word)\n",
    "search_box.submit()\n",
    "\n",
    "# Open 30 new tabs and search for a random number in each tab\n",
    "for i,count in en(range(25)):\n",
    "    \n",
    "    driver.execute_script(\"window.open('https://www.bing.com/');\")\n",
    "    driver.switch_to.window(driver.window_handles[-1])\n",
    "    time.sleep(5)\n",
    "    search_box = WebDriverWait(driver, 10).until(\n",
    "        EC.element_to_be_clickable((By.NAME, \"q\"))\n",
    "    )\n",
    "    search_word = str(random.randint(1, 120000))\n",
    "    print(search_word)\n",
    "    search_box.send_keys(search_word)\n",
    "    search_box.submit()\n",
    "    time.sleep(5)\n",
    "\n",
    "# Close the window\n",
    "print(\"closing..!\")\n",
    "driver.quit()\n"
   ]
  },
  {
   "cell_type": "code",
   "execution_count": 31,
   "id": "936d41c8",
   "metadata": {},
   "outputs": [
    {
     "name": "stdout",
     "output_type": "stream",
     "text": [
      "Tab 1 - Searched for 88931\n",
      "Tab 2 - Searched for 107072\n"
     ]
    }
   ],
   "source": [
    "from selenium import webdriver\n",
    "from selenium.webdriver.common.keys import Keys\n",
    "from webdriver_manager.microsoft import EdgeChromiumDriverManager\n",
    "import random\n",
    "import time\n",
    "\n",
    "# Set up Edge browser\n",
    "driver = webdriver.Edge(executable_path=EdgeChromiumDriverManager().install())\n",
    "driver.maximize_window()\n",
    "print(\"opened..!\")\n",
    "time.sleep(15)\n",
    "\n",
    "# Open first tab and search for random number\n",
    "driver.get(\"https://www.bing.com/\")\n",
    "search_box = driver.find_element_by_name(\"q\")\n",
    "random_number = random.randint(1, 120000)\n",
    "search_box.send_keys(str(random_number))\n",
    "search_box.send_keys(Keys.RETURN)\n",
    "\n",
    "# Loop over 30 times and open new tabs to search for random numbers\n",
    "for i, count in enumerate(range(1, 3), 1):\n",
    "    driver.execute_script(\"window.open('');\")\n",
    "    driver.switch_to.window(driver.window_handles[-1])\n",
    "    driver.get(\"https://www.bing.com/\")\n",
    "    search_box = driver.find_element_by_name(\"q\")\n",
    "    random_number = random.randint(1, 120000)\n",
    "    search_box.send_keys(str(random_number))\n",
    "    search_box.send_keys(Keys.RETURN)\n",
    "    time.sleep(5)  # Wait for page to load\n",
    "    print(f\"Tab {count} - Searched for {random_number}\")\n",
    "\n",
    "# Close all tabs and quit browser\n",
    "time.sleep(5)\n",
    "driver.quit()\n"
   ]
  },
  {
   "cell_type": "code",
   "execution_count": null,
   "id": "b590e6e7",
   "metadata": {},
   "outputs": [],
   "source": []
  }
 ],
 "metadata": {
  "kernelspec": {
   "display_name": "Python 3 (ipykernel)",
   "language": "python",
   "name": "python3"
  },
  "language_info": {
   "codemirror_mode": {
    "name": "ipython",
    "version": 3
   },
   "file_extension": ".py",
   "mimetype": "text/x-python",
   "name": "python",
   "nbconvert_exporter": "python",
   "pygments_lexer": "ipython3",
   "version": "3.9.13"
  }
 },
 "nbformat": 4,
 "nbformat_minor": 5
}
